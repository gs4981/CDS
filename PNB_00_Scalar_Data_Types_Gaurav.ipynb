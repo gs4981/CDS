{
  "nbformat": 4,
  "nbformat_minor": 0,
  "metadata": {
    "colab": {
      "provenance": [],
      "collapsed_sections": [],
      "include_colab_link": true
    },
    "kernelspec": {
      "name": "python3",
      "display_name": "Python 3"
    },
    "language_info": {
      "name": "python"
    }
  },
  "cells": [
    {
      "cell_type": "markdown",
      "metadata": {
        "id": "view-in-github",
        "colab_type": "text"
      },
      "source": [
        "<a href=\"https://colab.research.google.com/github/gs4981/CDS/blob/main/PNB_00_Scalar_Data_Types_Gaurav.ipynb\" target=\"_parent\"><img src=\"https://colab.research.google.com/assets/colab-badge.svg\" alt=\"Open In Colab\"/></a>"
      ]
    },
    {
      "cell_type": "markdown",
      "source": [
        "## Practice Notebook:"
      ],
      "metadata": {
        "id": "IflWtXgiIa4D"
      }
    },
    {
      "cell_type": "markdown",
      "source": [
        "## Scalar Data Types and Operations\n",
        "Python has four scalar data types:\n",
        "  * Integer\n",
        "  * Float\n",
        "  * Boolean\n",
        "  * Complex"
      ],
      "metadata": {
        "id": "QIhtW_lUImE1"
      }
    },
    {
      "cell_type": "markdown",
      "source": [
        "#### Integers"
      ],
      "metadata": {
        "id": "xeFGxMdWIyvb"
      }
    },
    {
      "cell_type": "markdown",
      "source": [
        "Perform [arithmetic operations](https://realpython.com/python-operators-expressions/#arithmetic-operators): \n",
        "* (+) for addition \n",
        "* (-) for subtraction \n",
        "* (*) for multiplication\n",
        "* (/) for floating divide\n",
        "* (//) for integer divide\n",
        "* (**) for exponential "
      ],
      "metadata": {
        "id": "9QwUuqFlLGck"
      }
    },
    {
      "cell_type": "markdown",
      "source": [
        "Print sum of 8 and 3"
      ],
      "metadata": {
        "id": "sKR3O1XKLqPj"
      }
    },
    {
      "cell_type": "code",
      "execution_count": 15,
      "metadata": {
        "id": "Aub9rVLnalky",
        "colab": {
          "base_uri": "https://localhost:8080/"
        },
        "outputId": "2b79ab30-dfec-4a56-dce3-454a21020c31"
      },
      "outputs": [
        {
          "output_type": "stream",
          "name": "stdout",
          "text": [
            "11\n"
          ]
        }
      ],
      "source": [
        "print (8+3)"
      ]
    },
    {
      "cell_type": "markdown",
      "source": [
        "Print the subtraction of smaller positive integer from larger positive integer:\n",
        "\n",
        "\n",
        "Eg: 8 - 2 "
      ],
      "metadata": {
        "id": "4a8-MNF5MGC4"
      }
    },
    {
      "cell_type": "code",
      "source": [
        "print (8-2);"
      ],
      "metadata": {
        "id": "31CnBPdXMAL7",
        "colab": {
          "base_uri": "https://localhost:8080/"
        },
        "outputId": "a9b92136-7278-4ac5-9f12-48740173b726"
      },
      "execution_count": 2,
      "outputs": [
        {
          "output_type": "stream",
          "name": "stdout",
          "text": [
            "6\n"
          ]
        }
      ]
    },
    {
      "cell_type": "markdown",
      "source": [
        "Print the subtraction of a larger positive integer from a smaller positive integer:\n",
        "\n",
        "\n",
        "Eg: 2 - 8 "
      ],
      "metadata": {
        "id": "3AR3_-baMaBM"
      }
    },
    {
      "cell_type": "code",
      "source": [
        "print (2-8)"
      ],
      "metadata": {
        "id": "WtXbFwz4MWug"
      },
      "execution_count": null,
      "outputs": []
    },
    {
      "cell_type": "markdown",
      "source": [
        "Print multiplication of any two positive integers."
      ],
      "metadata": {
        "id": "ClUMN3yoNtEK"
      }
    },
    {
      "cell_type": "code",
      "source": [
        "print (2*8)"
      ],
      "metadata": {
        "id": "G20668Y2MlB5"
      },
      "execution_count": null,
      "outputs": []
    },
    {
      "cell_type": "markdown",
      "source": [
        "Print multiplication of any two negative integers."
      ],
      "metadata": {
        "id": "TC-xJ13WOY0S"
      }
    },
    {
      "cell_type": "code",
      "source": [
        "print (-2*-8)"
      ],
      "metadata": {
        "id": "z4aQPlvmOU9V"
      },
      "execution_count": null,
      "outputs": []
    },
    {
      "cell_type": "markdown",
      "source": [
        "Print division of 18 by 3 such that the result is a float value."
      ],
      "metadata": {
        "id": "IlRhwMY_Ok7g"
      }
    },
    {
      "cell_type": "code",
      "source": [
        "print (18/3)"
      ],
      "metadata": {
        "id": "Q7rmI0y0OdbP",
        "colab": {
          "base_uri": "https://localhost:8080/"
        },
        "outputId": "b1be89f3-18e9-4c1c-df3d-7900078dc48d"
      },
      "execution_count": 6,
      "outputs": [
        {
          "output_type": "stream",
          "name": "stdout",
          "text": [
            "6.0\n"
          ]
        }
      ]
    },
    {
      "cell_type": "markdown",
      "source": [
        "Print division of 18 by 3 such that the result is an integer value."
      ],
      "metadata": {
        "id": "2xS550v2O-KM"
      }
    },
    {
      "cell_type": "code",
      "source": [
        "print (int(18/3))\n",
        "print (18//3)"
      ],
      "metadata": {
        "id": "8TVOAx7VO5BC"
      },
      "execution_count": null,
      "outputs": []
    },
    {
      "cell_type": "markdown",
      "source": [
        "Print Modulus of 18 and 5"
      ],
      "metadata": {
        "id": "D1K1HleBPOEB"
      }
    },
    {
      "cell_type": "code",
      "source": [
        "print(18%5)"
      ],
      "metadata": {
        "id": "9Pp2YcXxPEQS",
        "colab": {
          "base_uri": "https://localhost:8080/"
        },
        "outputId": "879effb3-253b-47b1-915f-dfaebea1696d"
      },
      "execution_count": 9,
      "outputs": [
        {
          "output_type": "stream",
          "name": "stdout",
          "text": [
            "3\n"
          ]
        }
      ]
    },
    {
      "cell_type": "markdown",
      "source": [
        "Print a solution for 18 raised to the power of 5."
      ],
      "metadata": {
        "id": "4vyO6zjsPn9H"
      }
    },
    {
      "cell_type": "code",
      "source": [
        "print(18**5)"
      ],
      "metadata": {
        "id": "r3MWlGT-PUFR",
        "colab": {
          "base_uri": "https://localhost:8080/"
        },
        "outputId": "d4871dfb-72e7-4891-feab-e7ccdc4e5be7"
      },
      "execution_count": 10,
      "outputs": [
        {
          "output_type": "stream",
          "name": "stdout",
          "text": [
            "1889568\n"
          ]
        }
      ]
    },
    {
      "cell_type": "markdown",
      "source": [
        "Verify and print that Python follows usual [operator precedence rules](https://realpython.com/python-operators-expressions/#operator-precedence)."
      ],
      "metadata": {
        "id": "FwGcjThnQL13"
      }
    },
    {
      "cell_type": "code",
      "source": [
        "print (20+4*10)"
      ],
      "metadata": {
        "id": "OPHKF7HpPxdH",
        "colab": {
          "base_uri": "https://localhost:8080/"
        },
        "outputId": "dd44185a-70bf-4815-9d13-e3801bfb4ca0"
      },
      "execution_count": 11,
      "outputs": [
        {
          "output_type": "stream",
          "name": "stdout",
          "text": [
            "60\n"
          ]
        }
      ]
    },
    {
      "cell_type": "markdown",
      "source": [
        "Demonstrate how parentheses can be used in Python to override the usual operator precedence rules."
      ],
      "metadata": {
        "id": "0vSnewDgQdJU"
      }
    },
    {
      "cell_type": "code",
      "source": [
        "print ((20+4)*10)"
      ],
      "metadata": {
        "id": "9v50Cm1OQY_y",
        "colab": {
          "base_uri": "https://localhost:8080/"
        },
        "outputId": "1ef7df32-6719-4fab-e249-0b8759785570"
      },
      "execution_count": 12,
      "outputs": [
        {
          "output_type": "stream",
          "name": "stdout",
          "text": [
            "240\n"
          ]
        }
      ]
    },
    {
      "cell_type": "markdown",
      "source": [
        "Verify that integers are not limited to any upper limit in python"
      ],
      "metadata": {
        "id": "HGwcThtMQ9zI"
      }
    },
    {
      "cell_type": "code",
      "source": [
        "a = 9999999999999 \n",
        "b = a ** 2\n",
        "print (a*b)"
      ],
      "metadata": {
        "id": "opHbiio2Q5wv",
        "colab": {
          "base_uri": "https://localhost:8080/"
        },
        "outputId": "8b40eecc-f792-41de-81be-a9a74ec886da"
      },
      "execution_count": 13,
      "outputs": [
        {
          "output_type": "stream",
          "name": "stdout",
          "text": [
            "999999999999700000000000029999999999999\n"
          ]
        }
      ]
    },
    {
      "cell_type": "markdown",
      "source": [
        "##### Assignment operators"
      ],
      "metadata": {
        "id": "JsDdczRWRhsv"
      }
    },
    {
      "cell_type": "markdown",
      "source": [
        "Assign two integer values to two variables. Demonstrate shorthand for $\\alpha = \\alpha \\odot \\beta$\n",
        "where $\\odot$ is any binary arithmetic operator."
      ],
      "metadata": {
        "id": "8ofnwcohSxZO"
      }
    },
    {
      "cell_type": "code",
      "source": [
        "# Assigning values to variables.\n",
        "alpha = 21\n",
        "beta = 52"
      ],
      "metadata": {
        "id": "6LaIUfohTgBa"
      },
      "execution_count": 20,
      "outputs": []
    },
    {
      "cell_type": "code",
      "source": [
        "# For Addition\n",
        "\n",
        "# Usual Notation\n",
        "alpha = alpha + beta\n",
        "print(alpha, beta)\n",
        "\n",
        "# Shorthand Notation\n",
        "# YOUR CODE HERE"
      ],
      "metadata": {
        "id": "p05Ij6xbRSHa"
      },
      "execution_count": null,
      "outputs": []
    },
    {
      "cell_type": "code",
      "source": [
        "# For Subtraction\n",
        "\n",
        "# Usual Notation\n",
        "# YOUR CODE HERE\n",
        "\n",
        "# Shorthand Notation\n",
        "# YOUR CODE HERE"
      ],
      "metadata": {
        "id": "UFGzQ3DyTcHJ"
      },
      "execution_count": null,
      "outputs": []
    },
    {
      "cell_type": "code",
      "source": [
        "# For Multiplication\n",
        "\n",
        "# Usual Notation\n",
        "# alpha = alpha * beta\n",
        "# print(alpha, beta)\n",
        "\n",
        "# Shorthand Notation\n",
        "alpha = 21\n",
        "beta = 52\n",
        "alpha+=beta\n",
        "print(alpha, beta)\n",
        "# YOUR CODE HERE"
      ],
      "metadata": {
        "id": "IT-lXUE8WeSb",
        "colab": {
          "base_uri": "https://localhost:8080/"
        },
        "outputId": "9bb40d0f-177b-40e4-be49-a0d86f85a882"
      },
      "execution_count": 26,
      "outputs": [
        {
          "output_type": "stream",
          "name": "stdout",
          "text": [
            "-31 52\n"
          ]
        }
      ]
    },
    {
      "cell_type": "markdown",
      "source": [
        "#### Boolean"
      ],
      "metadata": {
        "id": "92_hm5qEWtUO"
      }
    },
    {
      "cell_type": "markdown",
      "source": [
        "Given that alpha = 20 and beta = 33"
      ],
      "metadata": {
        "id": "lpDsi5AKW9Y8"
      }
    },
    {
      "cell_type": "markdown",
      "source": [
        "Write a boolean operator statement to check whether alpha is equal to beta"
      ],
      "metadata": {
        "id": "alwy0JLBXDRm"
      }
    },
    {
      "cell_type": "code",
      "source": [
        "alpha = 20\n",
        "beta = 33\n",
        "print (alpha==beta)"
      ],
      "metadata": {
        "id": "xlPY5j2qXPZf",
        "colab": {
          "base_uri": "https://localhost:8080/"
        },
        "outputId": "77dadb20-7c52-4752-8bc6-aadf15b69990"
      },
      "execution_count": 27,
      "outputs": [
        {
          "output_type": "stream",
          "name": "stdout",
          "text": [
            "False\n"
          ]
        }
      ]
    },
    {
      "cell_type": "code",
      "source": [
        "# YOUR CODE HERE"
      ],
      "metadata": {
        "id": "TZwukpm_XMOb"
      },
      "execution_count": null,
      "outputs": []
    },
    {
      "cell_type": "markdown",
      "source": [
        "Write a boolean operator statement to check whether alpha is equal to beta - 4"
      ],
      "metadata": {
        "id": "JliUZJD8Xk7X"
      }
    },
    {
      "cell_type": "code",
      "source": [
        "alpha = 20\n",
        "beta = 33-4\n",
        "print (alpha==beta)\n",
        "# print (alpha==beta-4)"
      ],
      "metadata": {
        "id": "w6fIOjcbXov1",
        "colab": {
          "base_uri": "https://localhost:8080/"
        },
        "outputId": "7e2e7301-dcb3-40da-ebf4-4462aa2402ae"
      },
      "execution_count": 28,
      "outputs": [
        {
          "output_type": "stream",
          "name": "stdout",
          "text": [
            "False\n"
          ]
        }
      ]
    },
    {
      "cell_type": "markdown",
      "source": [
        "Write a boolean operator statement to check whether alpha is greater than beta"
      ],
      "metadata": {
        "id": "jb3xdwNoXtgj"
      }
    },
    {
      "cell_type": "code",
      "source": [
        "print(alpha>beta)"
      ],
      "metadata": {
        "id": "xqfyEI47Xz0t",
        "colab": {
          "base_uri": "https://localhost:8080/"
        },
        "outputId": "81a7510d-faa4-4910-9feb-e6eaf5440762"
      },
      "execution_count": 29,
      "outputs": [
        {
          "output_type": "stream",
          "name": "stdout",
          "text": [
            "False\n"
          ]
        }
      ]
    },
    {
      "cell_type": "markdown",
      "source": [
        "Write a boolean operator statement to check whether alpha is less than or equal to beta"
      ],
      "metadata": {
        "id": "kY79uhPSX4uL"
      }
    },
    {
      "cell_type": "code",
      "source": [
        "print(alpha<=beta)"
      ],
      "metadata": {
        "id": "7mwMEDgoX-BO",
        "colab": {
          "base_uri": "https://localhost:8080/"
        },
        "outputId": "e860268c-1adc-4431-ec32-2a780e5e6506"
      },
      "execution_count": 30,
      "outputs": [
        {
          "output_type": "stream",
          "name": "stdout",
          "text": [
            "True\n"
          ]
        }
      ]
    },
    {
      "cell_type": "markdown",
      "source": [
        "Write a boolean operator statement to check whether alpha is not equal to beta - 13"
      ],
      "metadata": {
        "id": "wADtkBAJYJD-"
      }
    },
    {
      "cell_type": "code",
      "source": [
        "print (alpha != beta-13)"
      ],
      "metadata": {
        "id": "4jujfdVYYRUG",
        "colab": {
          "base_uri": "https://localhost:8080/"
        },
        "outputId": "92ac66b1-38ed-46c6-de06-a16a590f1a47"
      },
      "execution_count": 31,
      "outputs": [
        {
          "output_type": "stream",
          "name": "stdout",
          "text": [
            "True\n"
          ]
        }
      ]
    },
    {
      "cell_type": "markdown",
      "source": [
        "#### Float"
      ],
      "metadata": {
        "id": "NBrjmXxhYoY7"
      }
    },
    {
      "cell_type": "markdown",
      "source": [
        "Perform and print Addition, Subtraction, Multiplication, Division of two floating point values."
      ],
      "metadata": {
        "id": "ehTSvfSQaXgX"
      }
    },
    {
      "cell_type": "code",
      "source": [],
      "metadata": {
        "id": "QkRrkzlnYiXd"
      },
      "execution_count": null,
      "outputs": []
    },
    {
      "cell_type": "code",
      "source": [
        "alpha = 14.9\n",
        "beta = 25.9\n",
        "sum = alpha + beta\n",
        "subtraction = alpha - beta\n",
        "multiplication = alpha * beta\n",
        "division = alpha / beta\n",
        "print(sum,subtraction,multiplication,division)"
      ],
      "metadata": {
        "id": "fzTGhlKqa2xA",
        "colab": {
          "base_uri": "https://localhost:8080/"
        },
        "outputId": "7b8ca2af-fc9e-4765-870b-0c1a29b761ad"
      },
      "execution_count": 35,
      "outputs": [
        {
          "output_type": "stream",
          "name": "stdout",
          "text": [
            "40.8 -10.999999999999998 385.90999999999997 0.5752895752895754\n"
          ]
        }
      ]
    },
    {
      "cell_type": "code",
      "source": [],
      "metadata": {
        "id": "DCq5R8PjbV9J"
      },
      "execution_count": 33,
      "outputs": []
    },
    {
      "cell_type": "markdown",
      "source": [
        "#### Complex"
      ],
      "metadata": {
        "id": "bduCtvCIcI4s"
      }
    },
    {
      "cell_type": "markdown",
      "source": [
        "Print imaginary and real part of a complex number, initialized in z variable."
      ],
      "metadata": {
        "id": "2-xbGs3Gd7wK"
      }
    },
    {
      "cell_type": "code",
      "source": [
        "z = 3 + 6j\n",
        "print (z.real,z.imag)\n",
        "# z.real\n",
        "# z.imag"
      ],
      "metadata": {
        "id": "dCTinFyVb-rF",
        "colab": {
          "base_uri": "https://localhost:8080/"
        },
        "outputId": "28c928d0-1588-44a0-a6a2-f7672e310342"
      },
      "execution_count": 45,
      "outputs": [
        {
          "output_type": "stream",
          "name": "stdout",
          "text": [
            "3.0 6.0\n"
          ]
        }
      ]
    },
    {
      "cell_type": "code",
      "source": [
        "# YOUR CODE HERE"
      ],
      "metadata": {
        "id": "fhY-bARmeMue"
      },
      "execution_count": null,
      "outputs": []
    },
    {
      "cell_type": "markdown",
      "source": [
        "Calculate absolute value of the above initialized z"
      ],
      "metadata": {
        "id": "SCwczvi7eaZD"
      }
    },
    {
      "cell_type": "code",
      "source": [
        "abs(z)"
      ],
      "metadata": {
        "id": "BF4vbXmneZIN",
        "colab": {
          "base_uri": "https://localhost:8080/"
        },
        "outputId": "9a1a768c-36de-4db2-cdf8-51f9e47e3bf2"
      },
      "execution_count": 41,
      "outputs": [
        {
          "output_type": "execute_result",
          "data": {
            "text/plain": [
              "6.708203932499369"
            ]
          },
          "metadata": {},
          "execution_count": 41
        }
      ]
    },
    {
      "cell_type": "markdown",
      "source": [
        "# Problem Solving"
      ],
      "metadata": {
        "id": "AOC6DGa0o5bN"
      }
    },
    {
      "cell_type": "markdown",
      "source": [
        "Write a Python program to calculate the amount payable if money has been lent on simple interest.\n",
        "\n",
        "Principal = P, Rate of interest = R% per annum and Time = T years. \n",
        "\n",
        "Simple Interest (SI) = (P x R x T)/ 100.\n",
        "\n",
        "Amount payable = Principal + SI. \n",
        "\n",
        "P, R and T are given as input to the program."
      ],
      "metadata": {
        "id": "AIwZ45bTn7yi"
      }
    },
    {
      "cell_type": "code",
      "source": [
        "#Seek user input for Principal, Rate of interest and Time\n",
        "P = float(input('Enter the principal: '))\n",
        "R = # YOUR CODE HERE\n",
        "T = # YOUR CODE HERE\n",
        "#calculating simple interest\n",
        "# YOUR CODE HERE\n",
        "#Amount payable = Principal + Simple Interest\n",
        "# YOUR CODE HERE\n",
        "#Printing the total amount\n",
        "# YOUR CODE HERE"
      ],
      "metadata": {
        "id": "YPE9I1wen-9k"
      },
      "execution_count": null,
      "outputs": []
    },
    {
      "cell_type": "markdown",
      "source": [
        "For more Exercises, refer to: https://docs.python-guide.org/intro/learning/"
      ],
      "metadata": {
        "id": "7ZXRLhofrOay"
      }
    }
  ]
}